{
 "cells": [
  {
   "cell_type": "code",
   "execution_count": null,
   "id": "815ccad7",
   "metadata": {},
   "outputs": [],
   "source": []
  },
  {
   "cell_type": "code",
   "execution_count": 8,
   "id": "28e34c9a",
   "metadata": {},
   "outputs": [
    {
     "name": "stdout",
     "output_type": "stream",
     "text": [
      "enter purchase90\n",
      "purchase: 90\n",
      "state sale tax: 4.5\n",
      "count sale tax: 2.25\n",
      "total sale tax: 6.75\n",
      "total of sale: 96.75\n"
     ]
    }
   ],
   "source": [
    "purchase=int(input(\"enter purchase\"))\n",
    "state_tax =(purchase*5)/100\n",
    "county_sale_tax= (purchase*2.5)/100\n",
    "total_sale_tax=state_tax+county_sale_tax\n",
    "total_of_sale=purchase+total_sale_tax\n",
    "print(\"purchase:\" , purchase)\n",
    "print(\"state sale tax:\" , state_tax)\n",
    "print(\"count sale tax:\" , county_sale_tax )\n",
    "print(\"total sale tax:\" , total_sale_tax)\n",
    "print(\"total of sale:\" , total_of_sale)\n"
   ]
  },
  {
   "cell_type": "code",
   "execution_count": null,
   "id": "e92fb76c",
   "metadata": {},
   "outputs": [],
   "source": []
  }
 ],
 "metadata": {
  "kernelspec": {
   "display_name": "Python 3",
   "language": "python",
   "name": "python3"
  },
  "language_info": {
   "codemirror_mode": {
    "name": "ipython",
    "version": 3
   },
   "file_extension": ".py",
   "mimetype": "text/x-python",
   "name": "python",
   "nbconvert_exporter": "python",
   "pygments_lexer": "ipython3",
   "version": "3.8.8"
  }
 },
 "nbformat": 4,
 "nbformat_minor": 5
}
