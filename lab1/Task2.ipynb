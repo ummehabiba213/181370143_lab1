{
 "cells": [
  {
   "cell_type": "code",
   "execution_count": 2,
   "id": "260461d1",
   "metadata": {},
   "outputs": [
    {
     "name": "stdout",
     "output_type": "stream",
     "text": [
      "enter charge200\n",
      "charge for the food: 200\n",
      "tip: 36.0\n",
      "sale tax: 14.0\n",
      "total: 50.0\n"
     ]
    }
   ],
   "source": [
    "charge=int(input(\"enter charge\"))\n",
    "tip=(charge*18)/100\n",
    "sale_tax=(charge*7)/100\n",
    "total=tip+sale_tax\n",
    "print(\"charge for the food:\" , charge)\n",
    "print(\"tip:\" , tip)\n",
    "print(\"sale tax:\" , sale_tax)\n",
    "print(\"total:\" , total)"
   ]
  },
  {
   "cell_type": "code",
   "execution_count": null,
   "id": "93eff5d8",
   "metadata": {},
   "outputs": [],
   "source": []
  }
 ],
 "metadata": {
  "kernelspec": {
   "display_name": "Python 3",
   "language": "python",
   "name": "python3"
  },
  "language_info": {
   "codemirror_mode": {
    "name": "ipython",
    "version": 3
   },
   "file_extension": ".py",
   "mimetype": "text/x-python",
   "name": "python",
   "nbconvert_exporter": "python",
   "pygments_lexer": "ipython3",
   "version": "3.8.8"
  }
 },
 "nbformat": 4,
 "nbformat_minor": 5
}
