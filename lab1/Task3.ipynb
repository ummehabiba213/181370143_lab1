{
 "cells": [
  {
   "cell_type": "code",
   "execution_count": 5,
   "id": "5f0784be",
   "metadata": {},
   "outputs": [
    {
     "name": "stdout",
     "output_type": "stream",
     "text": [
      "enter amount of cookies70\n",
      "sugar: 2.19\n",
      "butter:1.46\n",
      "flour:4.01 \n"
     ]
    }
   ],
   "source": [
    "cookies=int(input(\"enter amount of cookies\"))\n",
    "sugar=(cookies*1.5)/48\n",
    "butter=(cookies*1)/48\n",
    "flour=(cookies*2.75)/48\n",
    "print(\"sugar: {:.2f}\" .format(sugar) )\n",
    "print(\"butter:{:.2f}\" . format(butter))\n",
    "print(\"flour:{:.2f} \" .format (flour))\n"
   ]
  },
  {
   "cell_type": "code",
   "execution_count": null,
   "id": "6b74b541",
   "metadata": {},
   "outputs": [],
   "source": []
  }
 ],
 "metadata": {
  "kernelspec": {
   "display_name": "Python 3",
   "language": "python",
   "name": "python3"
  },
  "language_info": {
   "codemirror_mode": {
    "name": "ipython",
    "version": 3
   },
   "file_extension": ".py",
   "mimetype": "text/x-python",
   "name": "python",
   "nbconvert_exporter": "python",
   "pygments_lexer": "ipython3",
   "version": "3.8.8"
  }
 },
 "nbformat": 4,
 "nbformat_minor": 5
}
