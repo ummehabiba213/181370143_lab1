{
 "cells": [
  {
   "cell_type": "code",
   "execution_count": 2,
   "id": "d9c2633f",
   "metadata": {},
   "outputs": [
    {
     "name": "stdout",
     "output_type": "stream",
     "text": [
      "females:12\n",
      "males12\n",
      "females: 12.00\n",
      "males 12.00\n",
      "total: 24.00\n",
      "total_males: 50.00\n",
      "total_females: 50.00\n"
     ]
    }
   ],
   "source": [
    "females=int(input(\"females:\"))\n",
    "males=int(input(\"males\"))\n",
    "total=females+males\n",
    "total_males=(males/total)*100\n",
    "total_females=(females/total)*100\n",
    "print(\"females: {:.2f}\" .format(females))\n",
    "print(\"males {:.2f}\" .format(males))\n",
    "print(\"total: {:.2f}\" .format(total))\n",
    "print(\"total_males: {:.2f}\" .format(total_males))\n",
    "print(\"total_females: {:.2f}\" .format (total_females))"
   ]
  },
  {
   "cell_type": "code",
   "execution_count": null,
   "id": "5c070029",
   "metadata": {},
   "outputs": [],
   "source": []
  }
 ],
 "metadata": {
  "kernelspec": {
   "display_name": "Python 3",
   "language": "python",
   "name": "python3"
  },
  "language_info": {
   "codemirror_mode": {
    "name": "ipython",
    "version": 3
   },
   "file_extension": ".py",
   "mimetype": "text/x-python",
   "name": "python",
   "nbconvert_exporter": "python",
   "pygments_lexer": "ipython3",
   "version": "3.8.8"
  }
 },
 "nbformat": 4,
 "nbformat_minor": 5
}
