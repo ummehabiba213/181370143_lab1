{
 "cells": [
  {
   "cell_type": "code",
   "execution_count": 2,
   "id": "f1cdc72b",
   "metadata": {},
   "outputs": [
    {
     "name": "stdout",
     "output_type": "stream",
     "text": [
      "Total amount paid:  82400.0\n",
      "Total recieved:  88065.0\n",
      "Commsion paid:  2400.0\n",
      "Commssion recieved:  2565.0\n"
     ]
    }
   ],
   "source": [
    "purchased_shares=2000\n",
    "per_shares=40\n",
    "commision =(purchased_shares*per_shares)*0.03\n",
    "total=(purchased_shares*per_shares)+commision\n",
    "sold_shares=42.75\n",
    "\n",
    "commision2 =(purchased_shares*sold_shares)*0.03\n",
    "total_recieved=commision2+(purchased_shares*sold_shares)\n",
    "print(\"Total amount paid: \",total)\n",
    "print(\"Total recieved: \",total_recieved)\n",
    "print(\"Commsion paid: \",commision)\n",
    "print(\"Commssion recieved: \",commision2)"
   ]
  },
  {
   "cell_type": "code",
   "execution_count": null,
   "id": "1f91d4f7",
   "metadata": {},
   "outputs": [],
   "source": []
  }
 ],
 "metadata": {
  "kernelspec": {
   "display_name": "Python 3",
   "language": "python",
   "name": "python3"
  },
  "language_info": {
   "codemirror_mode": {
    "name": "ipython",
    "version": 3
   },
   "file_extension": ".py",
   "mimetype": "text/x-python",
   "name": "python",
   "nbconvert_exporter": "python",
   "pygments_lexer": "ipython3",
   "version": "3.8.8"
  }
 },
 "nbformat": 4,
 "nbformat_minor": 5
}
