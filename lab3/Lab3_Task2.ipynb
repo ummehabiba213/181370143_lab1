{
 "cells": [
  {
   "cell_type": "code",
   "execution_count": 6,
   "id": "2907999d",
   "metadata": {},
   "outputs": [
    {
     "name": "stdout",
     "output_type": "stream",
     "text": [
      "enter the string:   habiba\n",
      "a ab abi abib abiba abibah "
     ]
    }
   ],
   "source": [
    "string=input(\"enter the string:   \")\n",
    "x=\"\"\n",
    "for i in string[::-1]:\n",
    "    x=x+i\n",
    "    print(x,end=\" \")\n",
    "    "
   ]
  },
  {
   "cell_type": "code",
   "execution_count": null,
   "id": "3bcd3d33",
   "metadata": {},
   "outputs": [],
   "source": []
  },
  {
   "cell_type": "code",
   "execution_count": null,
   "id": "c8768e2e",
   "metadata": {},
   "outputs": [],
   "source": []
  }
 ],
 "metadata": {
  "kernelspec": {
   "display_name": "Python 3",
   "language": "python",
   "name": "python3"
  },
  "language_info": {
   "codemirror_mode": {
    "name": "ipython",
    "version": 3
   },
   "file_extension": ".py",
   "mimetype": "text/x-python",
   "name": "python",
   "nbconvert_exporter": "python",
   "pygments_lexer": "ipython3",
   "version": "3.8.8"
  }
 },
 "nbformat": 4,
 "nbformat_minor": 5
}
