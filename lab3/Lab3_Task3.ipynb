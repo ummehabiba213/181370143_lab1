{
 "cells": [
  {
   "cell_type": "code",
   "execution_count": 16,
   "id": "48afacac",
   "metadata": {},
   "outputs": [
    {
     "name": "stdout",
     "output_type": "stream",
     "text": [
      "enter the passwordhello123\n",
      "Invlid\n"
     ]
    }
   ],
   "source": [
    "password=input(\"enter the password\")\n",
    "countlower,countupper,countdigit=0,0,0\n",
    "for i in password:\n",
    "    if i.islower():\n",
    "        countlower+=1\n",
    "    elif i.isupper():\n",
    "        countupper+=1\n",
    "    elif i.isdigit():\n",
    "        countdigit+=1\n",
    "if countlower>=1 and countupper>=1 and countdigit>=1:\n",
    "    print(\"Valid\")\n",
    "else:\n",
    "    print(\"Invlid\")"
   ]
  },
  {
   "cell_type": "code",
   "execution_count": null,
   "id": "b865f31c",
   "metadata": {},
   "outputs": [],
   "source": []
  }
 ],
 "metadata": {
  "kernelspec": {
   "display_name": "Python 3",
   "language": "python",
   "name": "python3"
  },
  "language_info": {
   "codemirror_mode": {
    "name": "ipython",
    "version": 3
   },
   "file_extension": ".py",
   "mimetype": "text/x-python",
   "name": "python",
   "nbconvert_exporter": "python",
   "pygments_lexer": "ipython3",
   "version": "3.8.8"
  }
 },
 "nbformat": 4,
 "nbformat_minor": 5
}
