{
 "cells": [
  {
   "cell_type": "code",
   "execution_count": 14,
   "id": "e39173b2",
   "metadata": {},
   "outputs": [
    {
     "name": "stdout",
     "output_type": "stream",
     "text": [
      "enter the string: hello.im\n",
      "Hello . Im . "
     ]
    }
   ],
   "source": [
    "string=input(\"enter the string: \")\n",
    "def capitalz(string):\n",
    "    stringChange= string.split(\".\")\n",
    "    for i in stringChange:\n",
    "        print(i.strip().capitalize(),\".\",end=\" \")\n",
    "capitalz(string)\n",
    "    \n",
    "        \n",
    "    "
   ]
  },
  {
   "cell_type": "code",
   "execution_count": null,
   "id": "561348c8",
   "metadata": {},
   "outputs": [],
   "source": []
  }
 ],
 "metadata": {
  "kernelspec": {
   "display_name": "Python 3",
   "language": "python",
   "name": "python3"
  },
  "language_info": {
   "codemirror_mode": {
    "name": "ipython",
    "version": 3
   },
   "file_extension": ".py",
   "mimetype": "text/x-python",
   "name": "python",
   "nbconvert_exporter": "python",
   "pygments_lexer": "ipython3",
   "version": "3.8.8"
  }
 },
 "nbformat": 4,
 "nbformat_minor": 5
}
